{
  "nbformat": 4,
  "nbformat_minor": 0,
  "metadata": {
    "colab": {
      "name": "Hackathon.ipynb",
      "provenance": [],
      "collapsed_sections": [],
      "toc_visible": true
    },
    "kernelspec": {
      "name": "python3",
      "display_name": "Python 3"
    },
    "language_info": {
      "name": "python"
    }
  },
  "cells": [
    {
      "cell_type": "code",
      "metadata": {
        "id": "MEcu8p-FA5iJ"
      },
      "source": [
        "import pandas as pd\n",
        "import numpy as np\n",
        "import matplotlib.pyplot as plt\n",
        "from sklearn.preprocessing import MinMaxScaler\n",
        "from sklearn.model_selection import train_test_split\n",
        "import tensorflow as tf\n",
        " \n",
        "%matplotlib inline"
      ],
      "execution_count": null,
      "outputs": []
    },
    {
      "cell_type": "code",
      "metadata": {
        "id": "C0005wUEeUiw"
      },
      "source": [
        "from tensorflow.keras.models import Sequential\n",
        "from tensorflow.keras.layers import Dense,Dropout,BatchNormalization\n",
        "from tensorflow.keras import regularizers\n",
        "from tensorflow.keras.callbacks import Callback, EarlyStopping, ReduceLROnPlateau"
      ],
      "execution_count": null,
      "outputs": []
    },
    {
      "cell_type": "code",
      "metadata": {
        "colab": {
          "base_uri": "https://localhost:8080/",
          "height": 226
        },
        "id": "fpyDRyipGSJN",
        "outputId": "eda98d85-a4bf-4138-f017-925d248501fe"
      },
      "source": [
        "df_ = pd.read_csv(\"train.csv\")\n",
        "df_.head()"
      ],
      "execution_count": null,
      "outputs": [
        {
          "output_type": "execute_result",
          "data": {
            "text/html": [
              "<div>\n",
              "<style scoped>\n",
              "    .dataframe tbody tr th:only-of-type {\n",
              "        vertical-align: middle;\n",
              "    }\n",
              "\n",
              "    .dataframe tbody tr th {\n",
              "        vertical-align: top;\n",
              "    }\n",
              "\n",
              "    .dataframe thead th {\n",
              "        text-align: right;\n",
              "    }\n",
              "</style>\n",
              "<table border=\"1\" class=\"dataframe\">\n",
              "  <thead>\n",
              "    <tr style=\"text-align: right;\">\n",
              "      <th></th>\n",
              "      <th>ID</th>\n",
              "      <th>Gender</th>\n",
              "      <th>Age</th>\n",
              "      <th>Region_Code</th>\n",
              "      <th>Occupation</th>\n",
              "      <th>Channel_Code</th>\n",
              "      <th>Vintage</th>\n",
              "      <th>Credit_Product</th>\n",
              "      <th>Avg_Account_Balance</th>\n",
              "      <th>Is_Active</th>\n",
              "      <th>Is_Lead</th>\n",
              "    </tr>\n",
              "  </thead>\n",
              "  <tbody>\n",
              "    <tr>\n",
              "      <th>0</th>\n",
              "      <td>NNVBBKZB</td>\n",
              "      <td>Female</td>\n",
              "      <td>73</td>\n",
              "      <td>RG268</td>\n",
              "      <td>Other</td>\n",
              "      <td>X3</td>\n",
              "      <td>43</td>\n",
              "      <td>No</td>\n",
              "      <td>1045696</td>\n",
              "      <td>No</td>\n",
              "      <td>0</td>\n",
              "    </tr>\n",
              "    <tr>\n",
              "      <th>1</th>\n",
              "      <td>IDD62UNG</td>\n",
              "      <td>Female</td>\n",
              "      <td>30</td>\n",
              "      <td>RG277</td>\n",
              "      <td>Salaried</td>\n",
              "      <td>X1</td>\n",
              "      <td>32</td>\n",
              "      <td>No</td>\n",
              "      <td>581988</td>\n",
              "      <td>No</td>\n",
              "      <td>0</td>\n",
              "    </tr>\n",
              "    <tr>\n",
              "      <th>2</th>\n",
              "      <td>HD3DSEMC</td>\n",
              "      <td>Female</td>\n",
              "      <td>56</td>\n",
              "      <td>RG268</td>\n",
              "      <td>Self_Employed</td>\n",
              "      <td>X3</td>\n",
              "      <td>26</td>\n",
              "      <td>No</td>\n",
              "      <td>1484315</td>\n",
              "      <td>Yes</td>\n",
              "      <td>0</td>\n",
              "    </tr>\n",
              "    <tr>\n",
              "      <th>3</th>\n",
              "      <td>BF3NC7KV</td>\n",
              "      <td>Male</td>\n",
              "      <td>34</td>\n",
              "      <td>RG270</td>\n",
              "      <td>Salaried</td>\n",
              "      <td>X1</td>\n",
              "      <td>19</td>\n",
              "      <td>No</td>\n",
              "      <td>470454</td>\n",
              "      <td>No</td>\n",
              "      <td>0</td>\n",
              "    </tr>\n",
              "    <tr>\n",
              "      <th>4</th>\n",
              "      <td>TEASRWXV</td>\n",
              "      <td>Female</td>\n",
              "      <td>30</td>\n",
              "      <td>RG282</td>\n",
              "      <td>Salaried</td>\n",
              "      <td>X1</td>\n",
              "      <td>33</td>\n",
              "      <td>No</td>\n",
              "      <td>886787</td>\n",
              "      <td>No</td>\n",
              "      <td>0</td>\n",
              "    </tr>\n",
              "  </tbody>\n",
              "</table>\n",
              "</div>"
            ],
            "text/plain": [
              "         ID  Gender  Age  ... Avg_Account_Balance Is_Active Is_Lead\n",
              "0  NNVBBKZB  Female   73  ...             1045696        No       0\n",
              "1  IDD62UNG  Female   30  ...              581988        No       0\n",
              "2  HD3DSEMC  Female   56  ...             1484315       Yes       0\n",
              "3  BF3NC7KV    Male   34  ...              470454        No       0\n",
              "4  TEASRWXV  Female   30  ...              886787        No       0\n",
              "\n",
              "[5 rows x 11 columns]"
            ]
          },
          "metadata": {
            "tags": []
          },
          "execution_count": 3
        }
      ]
    },
    {
      "cell_type": "code",
      "metadata": {
        "id": "Gc_GMUsCGVVc"
      },
      "source": [
        "df = pd.read_csv(\"train.csv\")"
      ],
      "execution_count": null,
      "outputs": []
    },
    {
      "cell_type": "code",
      "metadata": {
        "id": "0gxpUXOCGkmW"
      },
      "source": [
        "#df_.drop('ID',axis='columns',inplace=True)"
      ],
      "execution_count": null,
      "outputs": []
    },
    {
      "cell_type": "code",
      "metadata": {
        "colab": {
          "base_uri": "https://localhost:8080/"
        },
        "id": "WpuW1A5nGqV3",
        "outputId": "433dbfa7-b979-436d-a3c5-e7b3921eaf3e"
      },
      "source": [
        "df_.dtypes"
      ],
      "execution_count": null,
      "outputs": [
        {
          "output_type": "execute_result",
          "data": {
            "text/plain": [
              "ID                     object\n",
              "Gender                 object\n",
              "Age                     int64\n",
              "Region_Code            object\n",
              "Occupation             object\n",
              "Channel_Code           object\n",
              "Vintage                 int64\n",
              "Credit_Product         object\n",
              "Avg_Account_Balance     int64\n",
              "Is_Active              object\n",
              "Is_Lead                 int64\n",
              "dtype: object"
            ]
          },
          "metadata": {
            "tags": []
          },
          "execution_count": 6
        }
      ]
    },
    {
      "cell_type": "code",
      "metadata": {
        "colab": {
          "base_uri": "https://localhost:8080/"
        },
        "id": "Pp0Q5QMqGt1d",
        "outputId": "36b4832a-8151-43a0-901e-17d0b2860fa7"
      },
      "source": [
        "df[df.isna().any(axis=1)].shape"
      ],
      "execution_count": null,
      "outputs": [
        {
          "output_type": "execute_result",
          "data": {
            "text/plain": [
              "(29325, 11)"
            ]
          },
          "metadata": {
            "tags": []
          },
          "execution_count": 7
        }
      ]
    },
    {
      "cell_type": "code",
      "metadata": {
        "colab": {
          "base_uri": "https://localhost:8080/"
        },
        "id": "wUHzbySUM3PQ",
        "outputId": "968dbedb-2db1-465f-a429-ed483c1eae57"
      },
      "source": [
        "df_.shape"
      ],
      "execution_count": null,
      "outputs": [
        {
          "output_type": "execute_result",
          "data": {
            "text/plain": [
              "(245725, 11)"
            ]
          },
          "metadata": {
            "tags": []
          },
          "execution_count": 8
        }
      ]
    },
    {
      "cell_type": "code",
      "metadata": {
        "id": "be8-5w4TROLL"
      },
      "source": [
        "Y = df['Is_Lead']\n",
        "X = df.drop('Is_Lead',axis='columns')"
      ],
      "execution_count": null,
      "outputs": []
    },
    {
      "cell_type": "code",
      "metadata": {
        "id": "7GubH_chNg_9"
      },
      "source": [
        "X_train,X_test,Y_train,Y_test = train_test_split(X,Y,stratify=Y,test_size=0.1,random_state=1)"
      ],
      "execution_count": null,
      "outputs": []
    },
    {
      "cell_type": "code",
      "metadata": {
        "colab": {
          "base_uri": "https://localhost:8080/"
        },
        "id": "MswNwF6WRVKg",
        "outputId": "a49484ec-a531-475e-feb4-4cd03d8277eb"
      },
      "source": [
        "X_train.shape"
      ],
      "execution_count": null,
      "outputs": [
        {
          "output_type": "execute_result",
          "data": {
            "text/plain": [
              "(221152, 10)"
            ]
          },
          "metadata": {
            "tags": []
          },
          "execution_count": 11
        }
      ]
    },
    {
      "cell_type": "code",
      "metadata": {
        "colab": {
          "base_uri": "https://localhost:8080/"
        },
        "id": "DBUce0OuRYPt",
        "outputId": "5821e56f-e705-44b5-cef3-2e8e2b0710cc"
      },
      "source": [
        "Y_test.shape"
      ],
      "execution_count": null,
      "outputs": [
        {
          "output_type": "execute_result",
          "data": {
            "text/plain": [
              "(24573,)"
            ]
          },
          "metadata": {
            "tags": []
          },
          "execution_count": 12
        }
      ]
    },
    {
      "cell_type": "code",
      "metadata": {
        "id": "Q8LnbOvUUFHO"
      },
      "source": [
        "#X_train['Credit_Product'].fillna(X_train['Credit_Product'].mode()[0], inplace=True)\n",
        "#X_train.head()"
      ],
      "execution_count": null,
      "outputs": []
    },
    {
      "cell_type": "code",
      "metadata": {
        "id": "PfNWaKCWUVDQ"
      },
      "source": [
        "#X_train.Credit_Product.replace(('Yes','No'),(1,0),inplace=True)"
      ],
      "execution_count": null,
      "outputs": []
    },
    {
      "cell_type": "code",
      "metadata": {
        "id": "3ml6h50WRcB9"
      },
      "source": [
        "def datapreprocess(X_dat):\n",
        "  X_dat.drop('ID',axis='columns',inplace=True)\n",
        "  X_dat.Credit_Product.replace(('Yes','No'),(1,0),inplace=True)\n",
        "  X_dat.Is_Active.replace(('Yes','No'),(1,0),inplace=True)\n",
        "  X_dat['Credit_Product'].fillna(X_dat['Credit_Product'].mode()[0], inplace=True)\n",
        "  X_dat = pd.get_dummies(data=X_dat,columns=['Gender','Occupation','Channel_Code'])\n",
        "  X_dat.drop('Region_Code',axis='columns',inplace=True)\n",
        "  col_scale = [\"Age\",\"Vintage\",\"Avg_Account_Balance\"]\n",
        "  scaler = MinMaxScaler()\n",
        "  X_dat[col_scale] = scaler.fit_transform(X_dat[col_scale])\n",
        "  return X_dat\n"
      ],
      "execution_count": null,
      "outputs": []
    },
    {
      "cell_type": "code",
      "metadata": {
        "colab": {
          "base_uri": "https://localhost:8080/"
        },
        "id": "Rh45ntBlTwrq",
        "outputId": "889f7ec4-30c8-46bf-b967-9cc286febd42"
      },
      "source": [
        "X_train_prep = datapreprocess(X_train)"
      ],
      "execution_count": null,
      "outputs": [
        {
          "output_type": "stream",
          "text": [
            "/usr/local/lib/python3.7/dist-packages/pandas/core/frame.py:4174: SettingWithCopyWarning: \n",
            "A value is trying to be set on a copy of a slice from a DataFrame\n",
            "\n",
            "See the caveats in the documentation: https://pandas.pydata.org/pandas-docs/stable/user_guide/indexing.html#returning-a-view-versus-a-copy\n",
            "  errors=errors,\n",
            "/usr/local/lib/python3.7/dist-packages/pandas/core/series.py:4582: SettingWithCopyWarning: \n",
            "A value is trying to be set on a copy of a slice from a DataFrame\n",
            "\n",
            "See the caveats in the documentation: https://pandas.pydata.org/pandas-docs/stable/user_guide/indexing.html#returning-a-view-versus-a-copy\n",
            "  method=method,\n",
            "/usr/local/lib/python3.7/dist-packages/pandas/core/series.py:4536: SettingWithCopyWarning: \n",
            "A value is trying to be set on a copy of a slice from a DataFrame\n",
            "\n",
            "See the caveats in the documentation: https://pandas.pydata.org/pandas-docs/stable/user_guide/indexing.html#returning-a-view-versus-a-copy\n",
            "  downcast=downcast,\n"
          ],
          "name": "stderr"
        }
      ]
    },
    {
      "cell_type": "code",
      "metadata": {
        "colab": {
          "base_uri": "https://localhost:8080/",
          "height": 383
        },
        "id": "1W7pJEUGT3Re",
        "outputId": "cf0eafac-174e-4360-bfba-c1d4f7684c48"
      },
      "source": [
        "X_train_prep.sample(10)"
      ],
      "execution_count": null,
      "outputs": [
        {
          "output_type": "execute_result",
          "data": {
            "text/html": [
              "<div>\n",
              "<style scoped>\n",
              "    .dataframe tbody tr th:only-of-type {\n",
              "        vertical-align: middle;\n",
              "    }\n",
              "\n",
              "    .dataframe tbody tr th {\n",
              "        vertical-align: top;\n",
              "    }\n",
              "\n",
              "    .dataframe thead th {\n",
              "        text-align: right;\n",
              "    }\n",
              "</style>\n",
              "<table border=\"1\" class=\"dataframe\">\n",
              "  <thead>\n",
              "    <tr style=\"text-align: right;\">\n",
              "      <th></th>\n",
              "      <th>Age</th>\n",
              "      <th>Vintage</th>\n",
              "      <th>Credit_Product</th>\n",
              "      <th>Avg_Account_Balance</th>\n",
              "      <th>Is_Active</th>\n",
              "      <th>Gender_Female</th>\n",
              "      <th>Gender_Male</th>\n",
              "      <th>Occupation_Entrepreneur</th>\n",
              "      <th>Occupation_Other</th>\n",
              "      <th>Occupation_Salaried</th>\n",
              "      <th>Occupation_Self_Employed</th>\n",
              "      <th>Channel_Code_X1</th>\n",
              "      <th>Channel_Code_X2</th>\n",
              "      <th>Channel_Code_X3</th>\n",
              "      <th>Channel_Code_X4</th>\n",
              "    </tr>\n",
              "  </thead>\n",
              "  <tbody>\n",
              "    <tr>\n",
              "      <th>75337</th>\n",
              "      <td>0.080645</td>\n",
              "      <td>0.093750</td>\n",
              "      <td>1.0</td>\n",
              "      <td>0.032233</td>\n",
              "      <td>0</td>\n",
              "      <td>0</td>\n",
              "      <td>1</td>\n",
              "      <td>0</td>\n",
              "      <td>0</td>\n",
              "      <td>1</td>\n",
              "      <td>0</td>\n",
              "      <td>1</td>\n",
              "      <td>0</td>\n",
              "      <td>0</td>\n",
              "      <td>0</td>\n",
              "    </tr>\n",
              "    <tr>\n",
              "      <th>144756</th>\n",
              "      <td>0.048387</td>\n",
              "      <td>0.062500</td>\n",
              "      <td>0.0</td>\n",
              "      <td>0.072939</td>\n",
              "      <td>0</td>\n",
              "      <td>1</td>\n",
              "      <td>0</td>\n",
              "      <td>0</td>\n",
              "      <td>0</td>\n",
              "      <td>1</td>\n",
              "      <td>0</td>\n",
              "      <td>1</td>\n",
              "      <td>0</td>\n",
              "      <td>0</td>\n",
              "      <td>0</td>\n",
              "    </tr>\n",
              "    <tr>\n",
              "      <th>80801</th>\n",
              "      <td>0.177419</td>\n",
              "      <td>0.148438</td>\n",
              "      <td>0.0</td>\n",
              "      <td>0.096279</td>\n",
              "      <td>0</td>\n",
              "      <td>0</td>\n",
              "      <td>1</td>\n",
              "      <td>0</td>\n",
              "      <td>1</td>\n",
              "      <td>0</td>\n",
              "      <td>0</td>\n",
              "      <td>1</td>\n",
              "      <td>0</td>\n",
              "      <td>0</td>\n",
              "      <td>0</td>\n",
              "    </tr>\n",
              "    <tr>\n",
              "      <th>206307</th>\n",
              "      <td>0.064516</td>\n",
              "      <td>0.054688</td>\n",
              "      <td>1.0</td>\n",
              "      <td>0.146036</td>\n",
              "      <td>0</td>\n",
              "      <td>1</td>\n",
              "      <td>0</td>\n",
              "      <td>0</td>\n",
              "      <td>0</td>\n",
              "      <td>1</td>\n",
              "      <td>0</td>\n",
              "      <td>1</td>\n",
              "      <td>0</td>\n",
              "      <td>0</td>\n",
              "      <td>0</td>\n",
              "    </tr>\n",
              "    <tr>\n",
              "      <th>236067</th>\n",
              "      <td>0.354839</td>\n",
              "      <td>0.515625</td>\n",
              "      <td>1.0</td>\n",
              "      <td>0.070748</td>\n",
              "      <td>1</td>\n",
              "      <td>0</td>\n",
              "      <td>1</td>\n",
              "      <td>0</td>\n",
              "      <td>0</td>\n",
              "      <td>0</td>\n",
              "      <td>1</td>\n",
              "      <td>0</td>\n",
              "      <td>1</td>\n",
              "      <td>0</td>\n",
              "      <td>0</td>\n",
              "    </tr>\n",
              "    <tr>\n",
              "      <th>172865</th>\n",
              "      <td>0.548387</td>\n",
              "      <td>0.296875</td>\n",
              "      <td>1.0</td>\n",
              "      <td>0.084338</td>\n",
              "      <td>0</td>\n",
              "      <td>1</td>\n",
              "      <td>0</td>\n",
              "      <td>0</td>\n",
              "      <td>0</td>\n",
              "      <td>0</td>\n",
              "      <td>1</td>\n",
              "      <td>0</td>\n",
              "      <td>0</td>\n",
              "      <td>1</td>\n",
              "      <td>0</td>\n",
              "    </tr>\n",
              "    <tr>\n",
              "      <th>206076</th>\n",
              "      <td>0.048387</td>\n",
              "      <td>0.109375</td>\n",
              "      <td>0.0</td>\n",
              "      <td>0.126458</td>\n",
              "      <td>0</td>\n",
              "      <td>1</td>\n",
              "      <td>0</td>\n",
              "      <td>0</td>\n",
              "      <td>0</td>\n",
              "      <td>1</td>\n",
              "      <td>0</td>\n",
              "      <td>1</td>\n",
              "      <td>0</td>\n",
              "      <td>0</td>\n",
              "      <td>0</td>\n",
              "    </tr>\n",
              "    <tr>\n",
              "      <th>20981</th>\n",
              "      <td>0.500000</td>\n",
              "      <td>0.328125</td>\n",
              "      <td>1.0</td>\n",
              "      <td>0.057272</td>\n",
              "      <td>0</td>\n",
              "      <td>0</td>\n",
              "      <td>1</td>\n",
              "      <td>0</td>\n",
              "      <td>0</td>\n",
              "      <td>0</td>\n",
              "      <td>1</td>\n",
              "      <td>0</td>\n",
              "      <td>1</td>\n",
              "      <td>0</td>\n",
              "      <td>0</td>\n",
              "    </tr>\n",
              "    <tr>\n",
              "      <th>102513</th>\n",
              "      <td>0.064516</td>\n",
              "      <td>0.046875</td>\n",
              "      <td>0.0</td>\n",
              "      <td>0.079761</td>\n",
              "      <td>0</td>\n",
              "      <td>0</td>\n",
              "      <td>1</td>\n",
              "      <td>0</td>\n",
              "      <td>0</td>\n",
              "      <td>1</td>\n",
              "      <td>0</td>\n",
              "      <td>1</td>\n",
              "      <td>0</td>\n",
              "      <td>0</td>\n",
              "      <td>0</td>\n",
              "    </tr>\n",
              "    <tr>\n",
              "      <th>220661</th>\n",
              "      <td>0.370968</td>\n",
              "      <td>0.523438</td>\n",
              "      <td>0.0</td>\n",
              "      <td>0.105511</td>\n",
              "      <td>0</td>\n",
              "      <td>0</td>\n",
              "      <td>1</td>\n",
              "      <td>0</td>\n",
              "      <td>0</td>\n",
              "      <td>0</td>\n",
              "      <td>1</td>\n",
              "      <td>0</td>\n",
              "      <td>1</td>\n",
              "      <td>0</td>\n",
              "      <td>0</td>\n",
              "    </tr>\n",
              "  </tbody>\n",
              "</table>\n",
              "</div>"
            ],
            "text/plain": [
              "             Age   Vintage  ...  Channel_Code_X3  Channel_Code_X4\n",
              "75337   0.080645  0.093750  ...                0                0\n",
              "144756  0.048387  0.062500  ...                0                0\n",
              "80801   0.177419  0.148438  ...                0                0\n",
              "206307  0.064516  0.054688  ...                0                0\n",
              "236067  0.354839  0.515625  ...                0                0\n",
              "172865  0.548387  0.296875  ...                1                0\n",
              "206076  0.048387  0.109375  ...                0                0\n",
              "20981   0.500000  0.328125  ...                0                0\n",
              "102513  0.064516  0.046875  ...                0                0\n",
              "220661  0.370968  0.523438  ...                0                0\n",
              "\n",
              "[10 rows x 15 columns]"
            ]
          },
          "metadata": {
            "tags": []
          },
          "execution_count": 17
        }
      ]
    },
    {
      "cell_type": "code",
      "metadata": {
        "colab": {
          "base_uri": "https://localhost:8080/",
          "height": 320
        },
        "id": "xhIAObkGbiDt",
        "outputId": "03288790-f6ba-4527-a063-d8f49dd667a0"
      },
      "source": [
        "X_train_prep.describe()"
      ],
      "execution_count": null,
      "outputs": [
        {
          "output_type": "execute_result",
          "data": {
            "text/html": [
              "<div>\n",
              "<style scoped>\n",
              "    .dataframe tbody tr th:only-of-type {\n",
              "        vertical-align: middle;\n",
              "    }\n",
              "\n",
              "    .dataframe tbody tr th {\n",
              "        vertical-align: top;\n",
              "    }\n",
              "\n",
              "    .dataframe thead th {\n",
              "        text-align: right;\n",
              "    }\n",
              "</style>\n",
              "<table border=\"1\" class=\"dataframe\">\n",
              "  <thead>\n",
              "    <tr style=\"text-align: right;\">\n",
              "      <th></th>\n",
              "      <th>Age</th>\n",
              "      <th>Vintage</th>\n",
              "      <th>Credit_Product</th>\n",
              "      <th>Avg_Account_Balance</th>\n",
              "      <th>Is_Active</th>\n",
              "      <th>Gender_Female</th>\n",
              "      <th>Gender_Male</th>\n",
              "      <th>Occupation_Entrepreneur</th>\n",
              "      <th>Occupation_Other</th>\n",
              "      <th>Occupation_Salaried</th>\n",
              "      <th>Occupation_Self_Employed</th>\n",
              "      <th>Channel_Code_X1</th>\n",
              "      <th>Channel_Code_X2</th>\n",
              "      <th>Channel_Code_X3</th>\n",
              "      <th>Channel_Code_X4</th>\n",
              "    </tr>\n",
              "  </thead>\n",
              "  <tbody>\n",
              "    <tr>\n",
              "      <th>count</th>\n",
              "      <td>221152.000000</td>\n",
              "      <td>221152.000000</td>\n",
              "      <td>221152.000000</td>\n",
              "      <td>221152.000000</td>\n",
              "      <td>221152.000000</td>\n",
              "      <td>221152.000000</td>\n",
              "      <td>221152.000000</td>\n",
              "      <td>221152.000000</td>\n",
              "      <td>221152.000000</td>\n",
              "      <td>221152.000000</td>\n",
              "      <td>221152.000000</td>\n",
              "      <td>221152.000000</td>\n",
              "      <td>221152.000000</td>\n",
              "      <td>221152.000000</td>\n",
              "      <td>221152.000000</td>\n",
              "    </tr>\n",
              "    <tr>\n",
              "      <th>mean</th>\n",
              "      <td>0.336466</td>\n",
              "      <td>0.311832</td>\n",
              "      <td>0.293070</td>\n",
              "      <td>0.107161</td>\n",
              "      <td>0.388710</td>\n",
              "      <td>0.454163</td>\n",
              "      <td>0.545837</td>\n",
              "      <td>0.010902</td>\n",
              "      <td>0.285962</td>\n",
              "      <td>0.293074</td>\n",
              "      <td>0.410062</td>\n",
              "      <td>0.421592</td>\n",
              "      <td>0.275950</td>\n",
              "      <td>0.279663</td>\n",
              "      <td>0.022794</td>\n",
              "    </tr>\n",
              "    <tr>\n",
              "      <th>std</th>\n",
              "      <td>0.239287</td>\n",
              "      <td>0.252607</td>\n",
              "      <td>0.455171</td>\n",
              "      <td>0.082347</td>\n",
              "      <td>0.487458</td>\n",
              "      <td>0.497896</td>\n",
              "      <td>0.497896</td>\n",
              "      <td>0.103842</td>\n",
              "      <td>0.451872</td>\n",
              "      <td>0.455173</td>\n",
              "      <td>0.491846</td>\n",
              "      <td>0.493815</td>\n",
              "      <td>0.446993</td>\n",
              "      <td>0.448835</td>\n",
              "      <td>0.149247</td>\n",
              "    </tr>\n",
              "    <tr>\n",
              "      <th>min</th>\n",
              "      <td>0.000000</td>\n",
              "      <td>0.000000</td>\n",
              "      <td>0.000000</td>\n",
              "      <td>0.000000</td>\n",
              "      <td>0.000000</td>\n",
              "      <td>0.000000</td>\n",
              "      <td>0.000000</td>\n",
              "      <td>0.000000</td>\n",
              "      <td>0.000000</td>\n",
              "      <td>0.000000</td>\n",
              "      <td>0.000000</td>\n",
              "      <td>0.000000</td>\n",
              "      <td>0.000000</td>\n",
              "      <td>0.000000</td>\n",
              "      <td>0.000000</td>\n",
              "    </tr>\n",
              "    <tr>\n",
              "      <th>25%</th>\n",
              "      <td>0.112903</td>\n",
              "      <td>0.101562</td>\n",
              "      <td>0.000000</td>\n",
              "      <td>0.056500</td>\n",
              "      <td>0.000000</td>\n",
              "      <td>0.000000</td>\n",
              "      <td>0.000000</td>\n",
              "      <td>0.000000</td>\n",
              "      <td>0.000000</td>\n",
              "      <td>0.000000</td>\n",
              "      <td>0.000000</td>\n",
              "      <td>0.000000</td>\n",
              "      <td>0.000000</td>\n",
              "      <td>0.000000</td>\n",
              "      <td>0.000000</td>\n",
              "    </tr>\n",
              "    <tr>\n",
              "      <th>50%</th>\n",
              "      <td>0.322581</td>\n",
              "      <td>0.195312</td>\n",
              "      <td>0.000000</td>\n",
              "      <td>0.084602</td>\n",
              "      <td>0.000000</td>\n",
              "      <td>0.000000</td>\n",
              "      <td>1.000000</td>\n",
              "      <td>0.000000</td>\n",
              "      <td>0.000000</td>\n",
              "      <td>0.000000</td>\n",
              "      <td>0.000000</td>\n",
              "      <td>0.000000</td>\n",
              "      <td>0.000000</td>\n",
              "      <td>0.000000</td>\n",
              "      <td>0.000000</td>\n",
              "    </tr>\n",
              "    <tr>\n",
              "      <th>75%</th>\n",
              "      <td>0.500000</td>\n",
              "      <td>0.515625</td>\n",
              "      <td>1.000000</td>\n",
              "      <td>0.130302</td>\n",
              "      <td>1.000000</td>\n",
              "      <td>1.000000</td>\n",
              "      <td>1.000000</td>\n",
              "      <td>0.000000</td>\n",
              "      <td>1.000000</td>\n",
              "      <td>1.000000</td>\n",
              "      <td>1.000000</td>\n",
              "      <td>1.000000</td>\n",
              "      <td>1.000000</td>\n",
              "      <td>1.000000</td>\n",
              "      <td>0.000000</td>\n",
              "    </tr>\n",
              "    <tr>\n",
              "      <th>max</th>\n",
              "      <td>1.000000</td>\n",
              "      <td>1.000000</td>\n",
              "      <td>1.000000</td>\n",
              "      <td>1.000000</td>\n",
              "      <td>1.000000</td>\n",
              "      <td>1.000000</td>\n",
              "      <td>1.000000</td>\n",
              "      <td>1.000000</td>\n",
              "      <td>1.000000</td>\n",
              "      <td>1.000000</td>\n",
              "      <td>1.000000</td>\n",
              "      <td>1.000000</td>\n",
              "      <td>1.000000</td>\n",
              "      <td>1.000000</td>\n",
              "      <td>1.000000</td>\n",
              "    </tr>\n",
              "  </tbody>\n",
              "</table>\n",
              "</div>"
            ],
            "text/plain": [
              "                 Age        Vintage  ...  Channel_Code_X3  Channel_Code_X4\n",
              "count  221152.000000  221152.000000  ...    221152.000000    221152.000000\n",
              "mean        0.336466       0.311832  ...         0.279663         0.022794\n",
              "std         0.239287       0.252607  ...         0.448835         0.149247\n",
              "min         0.000000       0.000000  ...         0.000000         0.000000\n",
              "25%         0.112903       0.101562  ...         0.000000         0.000000\n",
              "50%         0.322581       0.195312  ...         0.000000         0.000000\n",
              "75%         0.500000       0.515625  ...         1.000000         0.000000\n",
              "max         1.000000       1.000000  ...         1.000000         1.000000\n",
              "\n",
              "[8 rows x 15 columns]"
            ]
          },
          "metadata": {
            "tags": []
          },
          "execution_count": 18
        }
      ]
    },
    {
      "cell_type": "code",
      "metadata": {
        "colab": {
          "base_uri": "https://localhost:8080/"
        },
        "id": "tU9cnZV3eivM",
        "outputId": "25c52d3c-ac06-4b0a-9222-9c8af330d4dc"
      },
      "source": [
        "X_train_prep.shape"
      ],
      "execution_count": null,
      "outputs": [
        {
          "output_type": "execute_result",
          "data": {
            "text/plain": [
              "(221152, 15)"
            ]
          },
          "metadata": {
            "tags": []
          },
          "execution_count": 19
        }
      ]
    },
    {
      "cell_type": "code",
      "metadata": {
        "id": "iw0HSl3Adyoy"
      },
      "source": [
        "model1 = Sequential([\n",
        "                          \n",
        "                          Dense(16,input_shape=(15,),kernel_regularizer=regularizers.l2(0.001),activation='relu'),\n",
        "                          Dropout(0.2),\n",
        "                          Dense(8,kernel_regularizer=regularizers.l2(0.001),activation='relu'),\n",
        "                          Dropout(0.2),\n",
        "                          Dense(1,activation='sigmoid')\n",
        "                          \n",
        "])"
      ],
      "execution_count": null,
      "outputs": []
    },
    {
      "cell_type": "code",
      "metadata": {
        "id": "-lCSJlU6hHF6"
      },
      "source": [
        "early_stopping = EarlyStopping(monitor='val_prc',patience=30)\n",
        "#learning_rate_reduction = ReduceLROnPlateau(factor=0.2,patience=15)"
      ],
      "execution_count": null,
      "outputs": []
    },
    {
      "cell_type": "code",
      "metadata": {
        "id": "2luZZQzsj-p8"
      },
      "source": [
        "from tensorflow import keras"
      ],
      "execution_count": null,
      "outputs": []
    },
    {
      "cell_type": "code",
      "metadata": {
        "id": "q0eQKMpWj0j6"
      },
      "source": [
        "METRICS = [\n",
        "      keras.metrics.TruePositives(name='tp'),\n",
        "      keras.metrics.FalsePositives(name='fp'),\n",
        "      keras.metrics.TrueNegatives(name='tn'),\n",
        "      keras.metrics.FalseNegatives(name='fn'), \n",
        "      keras.metrics.BinaryAccuracy(name='accuracy'),\n",
        "      keras.metrics.Precision(name='precision'),\n",
        "      keras.metrics.Recall(name='recall'),\n",
        "      keras.metrics.AUC(name='auc'),\n",
        "      keras.metrics.AUC(name='prc', curve='PR'), # precision-recall curve\n",
        "]\n"
      ],
      "execution_count": null,
      "outputs": []
    },
    {
      "cell_type": "code",
      "metadata": {
        "id": "IqIa0x45iSHu"
      },
      "source": [
        "model1.compile(optimizer='adam',\n",
        "                  loss='binary_crossentropy',metrics=METRICS)"
      ],
      "execution_count": null,
      "outputs": []
    },
    {
      "cell_type": "code",
      "metadata": {
        "colab": {
          "base_uri": "https://localhost:8080/"
        },
        "id": "VukxTkHKlAci",
        "outputId": "a72dbbb0-9b54-49fa-fca6-6eb1224d0c98"
      },
      "source": [
        "history = model1.fit(X_train_prep, Y_train, epochs=100, batch_size=256, validation_split=0.12,\n",
        "                         callbacks=[early_stopping,tf.keras.callbacks.CSVLogger(\"results.csv\")])"
      ],
      "execution_count": null,
      "outputs": [
        {
          "output_type": "stream",
          "text": [
            "Epoch 1/100\n",
            "761/761 [==============================] - 6s 4ms/step - loss: 0.5273 - tp: 3135.0000 - fp: 3264.0000 - tn: 145168.0000 - fn: 43046.0000 - accuracy: 0.7620 - precision: 0.4899 - recall: 0.0679 - auc: 0.6830 - prc: 0.3747 - val_loss: 0.4862 - val_tp: 600.0000 - val_fp: 142.0000 - val_tn: 20119.0000 - val_fn: 5678.0000 - val_accuracy: 0.7807 - val_precision: 0.8086 - val_recall: 0.0956 - val_auc: 0.7493 - val_prc: 0.4863\n",
            "Epoch 2/100\n",
            "761/761 [==============================] - 2s 3ms/step - loss: 0.4920 - tp: 4991.0000 - fp: 2240.0000 - tn: 146192.0000 - fn: 41190.0000 - accuracy: 0.7768 - precision: 0.6902 - recall: 0.1081 - auc: 0.7348 - prc: 0.4720 - val_loss: 0.4757 - val_tp: 739.0000 - val_fp: 205.0000 - val_tn: 20056.0000 - val_fn: 5539.0000 - val_accuracy: 0.7836 - val_precision: 0.7828 - val_recall: 0.1177 - val_auc: 0.7559 - val_prc: 0.5084\n",
            "Epoch 3/100\n",
            "761/761 [==============================] - 2s 3ms/step - loss: 0.4854 - tp: 5916.0000 - fp: 2834.0000 - tn: 145598.0000 - fn: 40265.0000 - accuracy: 0.7785 - precision: 0.6761 - recall: 0.1281 - auc: 0.7410 - prc: 0.4849 - val_loss: 0.4730 - val_tp: 755.0000 - val_fp: 210.0000 - val_tn: 20051.0000 - val_fn: 5523.0000 - val_accuracy: 0.7840 - val_precision: 0.7824 - val_recall: 0.1203 - val_auc: 0.7587 - val_prc: 0.5184\n",
            "Epoch 4/100\n",
            "761/761 [==============================] - 2s 3ms/step - loss: 0.4825 - tp: 6001.0000 - fp: 2822.0000 - tn: 145610.0000 - fn: 40180.0000 - accuracy: 0.7790 - precision: 0.6802 - recall: 0.1299 - auc: 0.7448 - prc: 0.4922 - val_loss: 0.4698 - val_tp: 813.0000 - val_fp: 225.0000 - val_tn: 20036.0000 - val_fn: 5465.0000 - val_accuracy: 0.7856 - val_precision: 0.7832 - val_recall: 0.1295 - val_auc: 0.7612 - val_prc: 0.5231\n",
            "Epoch 5/100\n",
            "761/761 [==============================] - 2s 3ms/step - loss: 0.4801 - tp: 6079.0000 - fp: 2746.0000 - tn: 145686.0000 - fn: 40102.0000 - accuracy: 0.7798 - precision: 0.6888 - recall: 0.1316 - auc: 0.7475 - prc: 0.4968 - val_loss: 0.4684 - val_tp: 1052.0000 - val_fp: 497.0000 - val_tn: 19764.0000 - val_fn: 5226.0000 - val_accuracy: 0.7844 - val_precision: 0.6791 - val_recall: 0.1676 - val_auc: 0.7628 - val_prc: 0.5248\n",
            "Epoch 6/100\n",
            "761/761 [==============================] - 2s 3ms/step - loss: 0.4783 - tp: 6085.0000 - fp: 2630.0000 - tn: 145802.0000 - fn: 40096.0000 - accuracy: 0.7805 - precision: 0.6982 - recall: 0.1318 - auc: 0.7499 - prc: 0.5012 - val_loss: 0.4664 - val_tp: 787.0000 - val_fp: 203.0000 - val_tn: 20058.0000 - val_fn: 5491.0000 - val_accuracy: 0.7854 - val_precision: 0.7949 - val_recall: 0.1254 - val_auc: 0.7651 - val_prc: 0.5295\n",
            "Epoch 7/100\n",
            "761/761 [==============================] - 2s 3ms/step - loss: 0.4766 - tp: 6022.0000 - fp: 2279.0000 - tn: 146153.0000 - fn: 40159.0000 - accuracy: 0.7819 - precision: 0.7255 - recall: 0.1304 - auc: 0.7516 - prc: 0.5048 - val_loss: 0.4655 - val_tp: 716.0000 - val_fp: 139.0000 - val_tn: 20122.0000 - val_fn: 5562.0000 - val_accuracy: 0.7852 - val_precision: 0.8374 - val_recall: 0.1140 - val_auc: 0.7663 - val_prc: 0.5316\n",
            "Epoch 8/100\n",
            "761/761 [==============================] - 2s 3ms/step - loss: 0.4753 - tp: 6163.0000 - fp: 2321.0000 - tn: 146111.0000 - fn: 40018.0000 - accuracy: 0.7824 - precision: 0.7264 - recall: 0.1335 - auc: 0.7525 - prc: 0.5077 - val_loss: 0.4643 - val_tp: 740.0000 - val_fp: 143.0000 - val_tn: 20118.0000 - val_fn: 5538.0000 - val_accuracy: 0.7859 - val_precision: 0.8381 - val_recall: 0.1179 - val_auc: 0.7674 - val_prc: 0.5328\n",
            "Epoch 9/100\n",
            "761/761 [==============================] - 2s 3ms/step - loss: 0.4742 - tp: 6194.0000 - fp: 2326.0000 - tn: 146106.0000 - fn: 39987.0000 - accuracy: 0.7826 - precision: 0.7270 - recall: 0.1341 - auc: 0.7534 - prc: 0.5085 - val_loss: 0.4639 - val_tp: 731.0000 - val_fp: 130.0000 - val_tn: 20131.0000 - val_fn: 5547.0000 - val_accuracy: 0.7861 - val_precision: 0.8490 - val_recall: 0.1164 - val_auc: 0.7676 - val_prc: 0.5344\n",
            "Epoch 10/100\n",
            "761/761 [==============================] - 2s 3ms/step - loss: 0.4737 - tp: 6447.0000 - fp: 2598.0000 - tn: 145834.0000 - fn: 39734.0000 - accuracy: 0.7825 - precision: 0.7128 - recall: 0.1396 - auc: 0.7541 - prc: 0.5103 - val_loss: 0.4630 - val_tp: 749.0000 - val_fp: 145.0000 - val_tn: 20116.0000 - val_fn: 5529.0000 - val_accuracy: 0.7862 - val_precision: 0.8378 - val_recall: 0.1193 - val_auc: 0.7683 - val_prc: 0.5353\n",
            "Epoch 11/100\n",
            "761/761 [==============================] - 2s 3ms/step - loss: 0.4727 - tp: 6490.0000 - fp: 2517.0000 - tn: 145915.0000 - fn: 39691.0000 - accuracy: 0.7831 - precision: 0.7206 - recall: 0.1405 - auc: 0.7546 - prc: 0.5119 - val_loss: 0.4616 - val_tp: 734.0000 - val_fp: 127.0000 - val_tn: 20134.0000 - val_fn: 5544.0000 - val_accuracy: 0.7863 - val_precision: 0.8525 - val_recall: 0.1169 - val_auc: 0.7679 - val_prc: 0.5348\n",
            "Epoch 12/100\n",
            "761/761 [==============================] - 2s 3ms/step - loss: 0.4721 - tp: 6459.0000 - fp: 2436.0000 - tn: 145996.0000 - fn: 39722.0000 - accuracy: 0.7834 - precision: 0.7261 - recall: 0.1399 - auc: 0.7549 - prc: 0.5133 - val_loss: 0.4606 - val_tp: 771.0000 - val_fp: 174.0000 - val_tn: 20087.0000 - val_fn: 5507.0000 - val_accuracy: 0.7859 - val_precision: 0.8159 - val_recall: 0.1228 - val_auc: 0.7688 - val_prc: 0.5364\n",
            "Epoch 13/100\n",
            "761/761 [==============================] - 2s 3ms/step - loss: 0.4718 - tp: 6410.0000 - fp: 2480.0000 - tn: 145952.0000 - fn: 39771.0000 - accuracy: 0.7829 - precision: 0.7210 - recall: 0.1388 - auc: 0.7554 - prc: 0.5123 - val_loss: 0.4618 - val_tp: 695.0000 - val_fp: 102.0000 - val_tn: 20159.0000 - val_fn: 5583.0000 - val_accuracy: 0.7858 - val_precision: 0.8720 - val_recall: 0.1107 - val_auc: 0.7675 - val_prc: 0.5336\n",
            "Epoch 14/100\n",
            "761/761 [==============================] - 2s 3ms/step - loss: 0.4717 - tp: 6340.0000 - fp: 2260.0000 - tn: 146172.0000 - fn: 39841.0000 - accuracy: 0.7837 - precision: 0.7372 - recall: 0.1373 - auc: 0.7554 - prc: 0.5140 - val_loss: 0.4598 - val_tp: 936.0000 - val_fp: 314.0000 - val_tn: 19947.0000 - val_fn: 5342.0000 - val_accuracy: 0.7869 - val_precision: 0.7488 - val_recall: 0.1491 - val_auc: 0.7681 - val_prc: 0.5361\n",
            "Epoch 15/100\n",
            "761/761 [==============================] - 2s 3ms/step - loss: 0.4713 - tp: 6429.0000 - fp: 2395.0000 - tn: 146037.0000 - fn: 39752.0000 - accuracy: 0.7834 - precision: 0.7286 - recall: 0.1392 - auc: 0.7553 - prc: 0.5133 - val_loss: 0.4609 - val_tp: 723.0000 - val_fp: 110.0000 - val_tn: 20151.0000 - val_fn: 5555.0000 - val_accuracy: 0.7865 - val_precision: 0.8679 - val_recall: 0.1152 - val_auc: 0.7687 - val_prc: 0.5382\n",
            "Epoch 16/100\n",
            "761/761 [==============================] - 2s 3ms/step - loss: 0.4710 - tp: 6333.0000 - fp: 2247.0000 - tn: 146185.0000 - fn: 39848.0000 - accuracy: 0.7837 - precision: 0.7381 - recall: 0.1371 - auc: 0.7554 - prc: 0.5133 - val_loss: 0.4598 - val_tp: 747.0000 - val_fp: 124.0000 - val_tn: 20137.0000 - val_fn: 5531.0000 - val_accuracy: 0.7869 - val_precision: 0.8576 - val_recall: 0.1190 - val_auc: 0.7688 - val_prc: 0.5376\n",
            "Epoch 17/100\n",
            "761/761 [==============================] - 2s 3ms/step - loss: 0.4706 - tp: 6376.0000 - fp: 2291.0000 - tn: 146141.0000 - fn: 39805.0000 - accuracy: 0.7837 - precision: 0.7357 - recall: 0.1381 - auc: 0.7556 - prc: 0.5136 - val_loss: 0.4596 - val_tp: 737.0000 - val_fp: 134.0000 - val_tn: 20127.0000 - val_fn: 5541.0000 - val_accuracy: 0.7862 - val_precision: 0.8462 - val_recall: 0.1174 - val_auc: 0.7677 - val_prc: 0.5358\n",
            "Epoch 18/100\n",
            "761/761 [==============================] - 2s 3ms/step - loss: 0.4700 - tp: 6300.0000 - fp: 2219.0000 - tn: 146213.0000 - fn: 39881.0000 - accuracy: 0.7837 - precision: 0.7395 - recall: 0.1364 - auc: 0.7562 - prc: 0.5145 - val_loss: 0.4591 - val_tp: 757.0000 - val_fp: 142.0000 - val_tn: 20119.0000 - val_fn: 5521.0000 - val_accuracy: 0.7866 - val_precision: 0.8420 - val_recall: 0.1206 - val_auc: 0.7679 - val_prc: 0.5367\n",
            "Epoch 19/100\n",
            "761/761 [==============================] - 2s 3ms/step - loss: 0.4700 - tp: 6293.0000 - fp: 2286.0000 - tn: 146146.0000 - fn: 39888.0000 - accuracy: 0.7833 - precision: 0.7335 - recall: 0.1363 - auc: 0.7560 - prc: 0.5148 - val_loss: 0.4591 - val_tp: 759.0000 - val_fp: 143.0000 - val_tn: 20118.0000 - val_fn: 5519.0000 - val_accuracy: 0.7867 - val_precision: 0.8415 - val_recall: 0.1209 - val_auc: 0.7688 - val_prc: 0.5372\n",
            "Epoch 20/100\n",
            "761/761 [==============================] - 2s 3ms/step - loss: 0.4702 - tp: 6434.0000 - fp: 2347.0000 - tn: 146085.0000 - fn: 39747.0000 - accuracy: 0.7837 - precision: 0.7327 - recall: 0.1393 - auc: 0.7555 - prc: 0.5142 - val_loss: 0.4595 - val_tp: 726.0000 - val_fp: 111.0000 - val_tn: 20150.0000 - val_fn: 5552.0000 - val_accuracy: 0.7866 - val_precision: 0.8674 - val_recall: 0.1156 - val_auc: 0.7695 - val_prc: 0.5387\n",
            "Epoch 21/100\n",
            "761/761 [==============================] - 2s 3ms/step - loss: 0.4696 - tp: 6227.0000 - fp: 2094.0000 - tn: 146338.0000 - fn: 39954.0000 - accuracy: 0.7839 - precision: 0.7483 - recall: 0.1348 - auc: 0.7562 - prc: 0.5152 - val_loss: 0.4597 - val_tp: 952.0000 - val_fp: 305.0000 - val_tn: 19956.0000 - val_fn: 5326.0000 - val_accuracy: 0.7878 - val_precision: 0.7574 - val_recall: 0.1516 - val_auc: 0.7679 - val_prc: 0.5377\n",
            "Epoch 22/100\n",
            "761/761 [==============================] - 3s 3ms/step - loss: 0.4699 - tp: 6283.0000 - fp: 2342.0000 - tn: 146090.0000 - fn: 39898.0000 - accuracy: 0.7830 - precision: 0.7285 - recall: 0.1361 - auc: 0.7560 - prc: 0.5138 - val_loss: 0.4584 - val_tp: 755.0000 - val_fp: 130.0000 - val_tn: 20131.0000 - val_fn: 5523.0000 - val_accuracy: 0.7870 - val_precision: 0.8531 - val_recall: 0.1203 - val_auc: 0.7697 - val_prc: 0.5400\n",
            "Epoch 23/100\n",
            "761/761 [==============================] - 2s 3ms/step - loss: 0.4697 - tp: 6235.0000 - fp: 2160.0000 - tn: 146272.0000 - fn: 39946.0000 - accuracy: 0.7836 - precision: 0.7427 - recall: 0.1350 - auc: 0.7559 - prc: 0.5141 - val_loss: 0.4582 - val_tp: 747.0000 - val_fp: 128.0000 - val_tn: 20133.0000 - val_fn: 5531.0000 - val_accuracy: 0.7868 - val_precision: 0.8537 - val_recall: 0.1190 - val_auc: 0.7691 - val_prc: 0.5383\n",
            "Epoch 24/100\n",
            "761/761 [==============================] - 2s 3ms/step - loss: 0.4691 - tp: 6367.0000 - fp: 2245.0000 - tn: 146187.0000 - fn: 39814.0000 - accuracy: 0.7839 - precision: 0.7393 - recall: 0.1379 - auc: 0.7567 - prc: 0.5158 - val_loss: 0.4578 - val_tp: 818.0000 - val_fp: 183.0000 - val_tn: 20078.0000 - val_fn: 5460.0000 - val_accuracy: 0.7874 - val_precision: 0.8172 - val_recall: 0.1303 - val_auc: 0.7701 - val_prc: 0.5399\n",
            "Epoch 25/100\n",
            "761/761 [==============================] - 2s 3ms/step - loss: 0.4689 - tp: 6351.0000 - fp: 2281.0000 - tn: 146151.0000 - fn: 39830.0000 - accuracy: 0.7836 - precision: 0.7358 - recall: 0.1375 - auc: 0.7566 - prc: 0.5156 - val_loss: 0.4585 - val_tp: 818.0000 - val_fp: 181.0000 - val_tn: 20080.0000 - val_fn: 5460.0000 - val_accuracy: 0.7874 - val_precision: 0.8188 - val_recall: 0.1303 - val_auc: 0.7693 - val_prc: 0.5390\n",
            "Epoch 26/100\n",
            "761/761 [==============================] - 3s 3ms/step - loss: 0.4689 - tp: 6511.0000 - fp: 2411.0000 - tn: 146021.0000 - fn: 39670.0000 - accuracy: 0.7838 - precision: 0.7298 - recall: 0.1410 - auc: 0.7570 - prc: 0.5159 - val_loss: 0.4579 - val_tp: 778.0000 - val_fp: 177.0000 - val_tn: 20084.0000 - val_fn: 5500.0000 - val_accuracy: 0.7861 - val_precision: 0.8147 - val_recall: 0.1239 - val_auc: 0.7690 - val_prc: 0.5375\n",
            "Epoch 27/100\n",
            "761/761 [==============================] - 2s 3ms/step - loss: 0.4689 - tp: 6432.0000 - fp: 2247.0000 - tn: 146185.0000 - fn: 39749.0000 - accuracy: 0.7842 - precision: 0.7411 - recall: 0.1393 - auc: 0.7564 - prc: 0.5160 - val_loss: 0.4583 - val_tp: 690.0000 - val_fp: 88.0000 - val_tn: 20173.0000 - val_fn: 5588.0000 - val_accuracy: 0.7861 - val_precision: 0.8869 - val_recall: 0.1099 - val_auc: 0.7687 - val_prc: 0.5383\n",
            "Epoch 28/100\n",
            "761/761 [==============================] - 2s 3ms/step - loss: 0.4687 - tp: 6394.0000 - fp: 2343.0000 - tn: 146089.0000 - fn: 39787.0000 - accuracy: 0.7835 - precision: 0.7318 - recall: 0.1385 - auc: 0.7566 - prc: 0.5152 - val_loss: 0.4574 - val_tp: 765.0000 - val_fp: 160.0000 - val_tn: 20101.0000 - val_fn: 5513.0000 - val_accuracy: 0.7862 - val_precision: 0.8270 - val_recall: 0.1219 - val_auc: 0.7691 - val_prc: 0.5387\n",
            "Epoch 29/100\n",
            "761/761 [==============================] - 2s 3ms/step - loss: 0.4687 - tp: 6395.0000 - fp: 2309.0000 - tn: 146123.0000 - fn: 39786.0000 - accuracy: 0.7837 - precision: 0.7347 - recall: 0.1385 - auc: 0.7566 - prc: 0.5152 - val_loss: 0.4570 - val_tp: 775.0000 - val_fp: 171.0000 - val_tn: 20090.0000 - val_fn: 5503.0000 - val_accuracy: 0.7862 - val_precision: 0.8192 - val_recall: 0.1234 - val_auc: 0.7692 - val_prc: 0.5396\n",
            "Epoch 30/100\n",
            "761/761 [==============================] - 2s 3ms/step - loss: 0.4686 - tp: 6293.0000 - fp: 2223.0000 - tn: 146209.0000 - fn: 39888.0000 - accuracy: 0.7836 - precision: 0.7390 - recall: 0.1363 - auc: 0.7567 - prc: 0.5155 - val_loss: 0.4586 - val_tp: 768.0000 - val_fp: 158.0000 - val_tn: 20103.0000 - val_fn: 5510.0000 - val_accuracy: 0.7864 - val_precision: 0.8294 - val_recall: 0.1223 - val_auc: 0.7698 - val_prc: 0.5387\n",
            "Epoch 31/100\n",
            "761/761 [==============================] - 2s 3ms/step - loss: 0.4683 - tp: 6423.0000 - fp: 2247.0000 - tn: 146185.0000 - fn: 39758.0000 - accuracy: 0.7842 - precision: 0.7408 - recall: 0.1391 - auc: 0.7569 - prc: 0.5169 - val_loss: 0.4581 - val_tp: 763.0000 - val_fp: 144.0000 - val_tn: 20117.0000 - val_fn: 5515.0000 - val_accuracy: 0.7868 - val_precision: 0.8412 - val_recall: 0.1215 - val_auc: 0.7704 - val_prc: 0.5403\n"
          ],
          "name": "stdout"
        }
      ]
    },
    {
      "cell_type": "code",
      "metadata": {
        "id": "pag26XA1m5bm"
      },
      "source": [
        ""
      ],
      "execution_count": null,
      "outputs": []
    }
  ]
}